{
 "cells": [
  {
   "cell_type": "markdown",
   "metadata": {},
   "source": [
    "# ETL Processes\n",
    "Use this notebook to develop the ETL process for each of your tables before completing the `etl.py` file to load the whole datasets."
   ]
  },
  {
   "cell_type": "code",
   "execution_count": 1,
   "metadata": {},
   "outputs": [],
   "source": [
    "import os\n",
    "import glob\n",
    "import psycopg2\n",
    "import pandas as pd\n",
    "from sql_queries import *"
   ]
  },
  {
   "cell_type": "code",
   "execution_count": 2,
   "metadata": {},
   "outputs": [],
   "source": [
    "conn = psycopg2.connect(\"host=127.0.0.1 dbname=sparkifydb user=student password=student\")\n",
    "cur = conn.cursor()"
   ]
  },
  {
   "cell_type": "code",
   "execution_count": 3,
   "metadata": {},
   "outputs": [],
   "source": [
    "def get_files(filepath):\n",
    "    all_files = []\n",
    "    for root, dirs, files in os.walk(filepath):\n",
    "        files = glob.glob(os.path.join(root,'*.json'))\n",
    "        for f in files :\n",
    "            all_files.append(os.path.abspath(f))\n",
    "    \n",
    "    return all_files"
   ]
  },
  {
   "cell_type": "markdown",
   "metadata": {},
   "source": [
    "# Process `song_data`\n",
    "In this first part, you'll perform ETL on the first dataset, `song_data`, to create the `songs` and `artists` dimensional tables.\n",
    "\n",
    "Let's perform ETL on a single song file and load a single record into each table to start.\n",
    "- Use the `get_files` function provided above to get a list of all song JSON files in `data/song_data`\n",
    "- Select the first song in this list\n",
    "- Read the song file and view the data"
   ]
  },
  {
   "cell_type": "code",
   "execution_count": 4,
   "metadata": {},
   "outputs": [
    {
     "data": {
      "text/plain": [
       "['/Users/angelica/Desktop/Sparkify_Data_Modeling_PostgreSQL/data/song_data/TRAACOW128F933E35F.json',\n",
       " '/Users/angelica/Desktop/Sparkify_Data_Modeling_PostgreSQL/data/song_data/TRAAAEF128F4273421.json',\n",
       " '/Users/angelica/Desktop/Sparkify_Data_Modeling_PostgreSQL/data/song_data/TRAACPE128F421C1B9.json',\n",
       " '/Users/angelica/Desktop/Sparkify_Data_Modeling_PostgreSQL/data/song_data/TRAABDL12903CAABBA.json',\n",
       " '/Users/angelica/Desktop/Sparkify_Data_Modeling_PostgreSQL/data/song_data/TRAABXG128F9318EBD.json',\n",
       " '/Users/angelica/Desktop/Sparkify_Data_Modeling_PostgreSQL/data/song_data/TRAAARJ128F9320760.json',\n",
       " '/Users/angelica/Desktop/Sparkify_Data_Modeling_PostgreSQL/data/song_data/TRAACFV128F935E50B.json',\n",
       " '/Users/angelica/Desktop/Sparkify_Data_Modeling_PostgreSQL/data/song_data/TRAACIW12903CC0F6D.json',\n",
       " '/Users/angelica/Desktop/Sparkify_Data_Modeling_PostgreSQL/data/song_data/TRAABYN12903CFD305.json',\n",
       " '/Users/angelica/Desktop/Sparkify_Data_Modeling_PostgreSQL/data/song_data/TRAAAFD128F92F423A.json',\n",
       " '/Users/angelica/Desktop/Sparkify_Data_Modeling_PostgreSQL/data/song_data/TRAABNV128F425CEE1.json',\n",
       " '/Users/angelica/Desktop/Sparkify_Data_Modeling_PostgreSQL/data/song_data/TRAACER128F4290F96.json',\n",
       " '/Users/angelica/Desktop/Sparkify_Data_Modeling_PostgreSQL/data/song_data/TRAABJL12903CDCF1A.json',\n",
       " '/Users/angelica/Desktop/Sparkify_Data_Modeling_PostgreSQL/data/song_data/TRAACHN128F1489601.json',\n",
       " '/Users/angelica/Desktop/Sparkify_Data_Modeling_PostgreSQL/data/song_data/TRAAAPK128E0786D96.json',\n",
       " '/Users/angelica/Desktop/Sparkify_Data_Modeling_PostgreSQL/data/song_data/TRAABCL128F4286650.json',\n",
       " '/Users/angelica/Desktop/Sparkify_Data_Modeling_PostgreSQL/data/song_data/TRAAABD128F429CF47.json',\n",
       " '/Users/angelica/Desktop/Sparkify_Data_Modeling_PostgreSQL/data/song_data/TRAAAAW128F429D538.json',\n",
       " '/Users/angelica/Desktop/Sparkify_Data_Modeling_PostgreSQL/data/song_data/TRAAADZ128F9348C2E.json',\n",
       " '/Users/angelica/Desktop/Sparkify_Data_Modeling_PostgreSQL/data/song_data/TRAACLV128F427E123.json',\n",
       " '/Users/angelica/Desktop/Sparkify_Data_Modeling_PostgreSQL/data/song_data/TRAABJV128F1460C49.json',\n",
       " '/Users/angelica/Desktop/Sparkify_Data_Modeling_PostgreSQL/data/song_data/TRAACCG128F92E8A55.json',\n",
       " '/Users/angelica/Desktop/Sparkify_Data_Modeling_PostgreSQL/data/song_data/TRAABLR128F423B7E3.json',\n",
       " '/Users/angelica/Desktop/Sparkify_Data_Modeling_PostgreSQL/data/song_data/TRAABRB128F9306DD5.json',\n",
       " '/Users/angelica/Desktop/Sparkify_Data_Modeling_PostgreSQL/data/song_data/TRAABVM128F92CA9DC.json',\n",
       " '/Users/angelica/Desktop/Sparkify_Data_Modeling_PostgreSQL/data/song_data/TRAACQT128F9331780.json',\n",
       " '/Users/angelica/Desktop/Sparkify_Data_Modeling_PostgreSQL/data/song_data/TRAAAVG12903CFA543.json',\n",
       " '/Users/angelica/Desktop/Sparkify_Data_Modeling_PostgreSQL/data/song_data/TRAACNS128F14A2DF5.json',\n",
       " '/Users/angelica/Desktop/Sparkify_Data_Modeling_PostgreSQL/data/song_data/TRAAAMO128F1481E7F.json',\n",
       " '/Users/angelica/Desktop/Sparkify_Data_Modeling_PostgreSQL/data/song_data/TRAAAMQ128F1460CD3.json']"
      ]
     },
     "execution_count": 4,
     "metadata": {},
     "output_type": "execute_result"
    }
   ],
   "source": [
    "song_files = get_files('data/song_data')\n",
    "song_files"
   ]
  },
  {
   "cell_type": "code",
   "execution_count": 5,
   "metadata": {},
   "outputs": [
    {
     "data": {
      "text/plain": [
       "'/Users/angelica/Desktop/Sparkify_Data_Modeling_PostgreSQL/data/song_data/TRAACOW128F933E35F.json'"
      ]
     },
     "execution_count": 5,
     "metadata": {},
     "output_type": "execute_result"
    }
   ],
   "source": [
    "filepath = song_files[0]\n",
    "filepath"
   ]
  },
  {
   "cell_type": "code",
   "execution_count": 6,
   "metadata": {},
   "outputs": [
    {
     "data": {
      "text/html": [
       "<div>\n",
       "<style scoped>\n",
       "    .dataframe tbody tr th:only-of-type {\n",
       "        vertical-align: middle;\n",
       "    }\n",
       "\n",
       "    .dataframe tbody tr th {\n",
       "        vertical-align: top;\n",
       "    }\n",
       "\n",
       "    .dataframe thead th {\n",
       "        text-align: right;\n",
       "    }\n",
       "</style>\n",
       "<table border=\"1\" class=\"dataframe\">\n",
       "  <thead>\n",
       "    <tr style=\"text-align: right;\">\n",
       "      <th></th>\n",
       "      <th>num_songs</th>\n",
       "      <th>artist_id</th>\n",
       "      <th>artist_latitude</th>\n",
       "      <th>artist_longitude</th>\n",
       "      <th>artist_location</th>\n",
       "      <th>artist_name</th>\n",
       "      <th>song_id</th>\n",
       "      <th>title</th>\n",
       "      <th>duration</th>\n",
       "      <th>year</th>\n",
       "    </tr>\n",
       "  </thead>\n",
       "  <tbody>\n",
       "    <tr>\n",
       "      <td>0</td>\n",
       "      <td>1</td>\n",
       "      <td>ARH4Z031187B9A71F2</td>\n",
       "      <td>40.73197</td>\n",
       "      <td>-74.17418</td>\n",
       "      <td>Newark, NJ</td>\n",
       "      <td>Faye Adams</td>\n",
       "      <td>SOVYKGO12AB0187199</td>\n",
       "      <td>Crazy Mixed Up World</td>\n",
       "      <td>156.39465</td>\n",
       "      <td>1961</td>\n",
       "    </tr>\n",
       "  </tbody>\n",
       "</table>\n",
       "</div>"
      ],
      "text/plain": [
       "   num_songs           artist_id  artist_latitude  artist_longitude  \\\n",
       "0          1  ARH4Z031187B9A71F2         40.73197         -74.17418   \n",
       "\n",
       "  artist_location artist_name             song_id                 title  \\\n",
       "0      Newark, NJ  Faye Adams  SOVYKGO12AB0187199  Crazy Mixed Up World   \n",
       "\n",
       "    duration  year  \n",
       "0  156.39465  1961  "
      ]
     },
     "execution_count": 6,
     "metadata": {},
     "output_type": "execute_result"
    }
   ],
   "source": [
    "df = pd.read_json(filepath, lines=True)\n",
    "df.head()"
   ]
  },
  {
   "cell_type": "markdown",
   "metadata": {},
   "source": [
    "## #1: `songs` Table\n",
    "#### Extract Data for Songs Table\n",
    "- Select columns for song ID, title, artist ID, year, and duration\n",
    "- Use `df.values` to select just the values from the dataframe\n",
    "- Index to select the first (only) record in the dataframe\n",
    "- Convert the array to a list and set it to `song_data`"
   ]
  },
  {
   "cell_type": "code",
   "execution_count": 7,
   "metadata": {},
   "outputs": [
    {
     "data": {
      "text/plain": [
       "['SOVYKGO12AB0187199',\n",
       " 'Crazy Mixed Up World',\n",
       " 'ARH4Z031187B9A71F2',\n",
       " 1961,\n",
       " 156.39465]"
      ]
     },
     "execution_count": 7,
     "metadata": {},
     "output_type": "execute_result"
    }
   ],
   "source": [
    "song_data = list(df[['song_id', 'title', 'artist_id', 'year', 'duration']].values[0])\n",
    "song_data"
   ]
  },
  {
   "cell_type": "markdown",
   "metadata": {},
   "source": [
    "#### Insert Record into Song Table\n",
    "Implement the `song_table_insert` query in `sql_queries.py` and run the cell below to insert a record for this song into the `songs` table. Remember to run `create_tables.py` before running the cell below to ensure you've created/resetted the `songs` table in the sparkify database."
   ]
  },
  {
   "cell_type": "code",
   "execution_count": 8,
   "metadata": {},
   "outputs": [],
   "source": [
    "cur.execute(song_table_insert, song_data)\n",
    "conn.commit()"
   ]
  },
  {
   "cell_type": "markdown",
   "metadata": {},
   "source": [
    "Run `test.ipynb` to see if you've successfully added a record to this table."
   ]
  },
  {
   "cell_type": "markdown",
   "metadata": {},
   "source": [
    "## #2: `artists` Table\n",
    "#### Extract Data for Artists Table\n",
    "- Select columns for artist ID, name, location, latitude, and longitude\n",
    "- Use `df.values` to select just the values from the dataframe\n",
    "- Index to select the first (only) record in the dataframe\n",
    "- Convert the array to a list and set it to `artist_data`"
   ]
  },
  {
   "cell_type": "code",
   "execution_count": 9,
   "metadata": {},
   "outputs": [
    {
     "data": {
      "text/plain": [
       "['ARH4Z031187B9A71F2', 'Faye Adams', 'Newark, NJ', 40.73197, -74.17418]"
      ]
     },
     "execution_count": 9,
     "metadata": {},
     "output_type": "execute_result"
    }
   ],
   "source": [
    "artist_data = list(df[['artist_id', 'artist_name', 'artist_location', 'artist_latitude', 'artist_longitude']].values[0])\n",
    "artist_data"
   ]
  },
  {
   "cell_type": "markdown",
   "metadata": {},
   "source": [
    "#### Insert Record into Artist Table\n",
    "Implement the `artist_table_insert` query in `sql_queries.py` and run the cell below to insert a record for this song's artist into the `artists` table. Remember to run `create_tables.py` before running the cell below to ensure you've created/resetted the `artists` table in the sparkify database."
   ]
  },
  {
   "cell_type": "code",
   "execution_count": 10,
   "metadata": {},
   "outputs": [],
   "source": [
    "cur.execute(artist_table_insert, artist_data)\n",
    "conn.commit()"
   ]
  },
  {
   "cell_type": "markdown",
   "metadata": {},
   "source": [
    "Run `test.ipynb` to see if you've successfully added a record to this table."
   ]
  },
  {
   "cell_type": "markdown",
   "metadata": {},
   "source": [
    "# Process `log_data`\n",
    "In this part, you'll perform ETL on the second dataset, `log_data`, to create the `time` and `users` dimensional tables, as well as the `songplays` fact table.\n",
    "\n",
    "Let's perform ETL on a single log file and load a single record into each table.\n",
    "- Use the `get_files` function provided above to get a list of all log JSON files in `data/log_data`\n",
    "- Select the first log file in this list\n",
    "- Read the log file and view the data"
   ]
  },
  {
   "cell_type": "code",
   "execution_count": 11,
   "metadata": {},
   "outputs": [
    {
     "data": {
      "text/plain": [
       "['/Users/angelica/Desktop/Sparkify_Data_Modeling_PostgreSQL/data/log_data/2018-11-04-events.json',\n",
       " '/Users/angelica/Desktop/Sparkify_Data_Modeling_PostgreSQL/data/log_data/2018-11-01-events.json',\n",
       " '/Users/angelica/Desktop/Sparkify_Data_Modeling_PostgreSQL/data/log_data/2018-11-08-events.json',\n",
       " '/Users/angelica/Desktop/Sparkify_Data_Modeling_PostgreSQL/data/log_data/2018-11-02-events.json',\n",
       " '/Users/angelica/Desktop/Sparkify_Data_Modeling_PostgreSQL/data/log_data/2018-11-07-events.json',\n",
       " '/Users/angelica/Desktop/Sparkify_Data_Modeling_PostgreSQL/data/log_data/2018-11-09-events.json',\n",
       " '/Users/angelica/Desktop/Sparkify_Data_Modeling_PostgreSQL/data/log_data/2018-11-05-events.json',\n",
       " '/Users/angelica/Desktop/Sparkify_Data_Modeling_PostgreSQL/data/log_data/2018-11-10-events.json',\n",
       " '/Users/angelica/Desktop/Sparkify_Data_Modeling_PostgreSQL/data/log_data/2018-11-06-events.json',\n",
       " '/Users/angelica/Desktop/Sparkify_Data_Modeling_PostgreSQL/data/log_data/2018-11-03-events.json']"
      ]
     },
     "execution_count": 11,
     "metadata": {},
     "output_type": "execute_result"
    }
   ],
   "source": [
    "log_files = get_files('data/log_data')\n",
    "log_files"
   ]
  },
  {
   "cell_type": "code",
   "execution_count": 12,
   "metadata": {},
   "outputs": [
    {
     "data": {
      "text/plain": [
       "'/Users/angelica/Desktop/Sparkify_Data_Modeling_PostgreSQL/data/log_data/2018-11-04-events.json'"
      ]
     },
     "execution_count": 12,
     "metadata": {},
     "output_type": "execute_result"
    }
   ],
   "source": [
    "filepath = log_files[0]\n",
    "filepath"
   ]
  },
  {
   "cell_type": "code",
   "execution_count": 13,
   "metadata": {},
   "outputs": [
    {
     "data": {
      "text/html": [
       "<div>\n",
       "<style scoped>\n",
       "    .dataframe tbody tr th:only-of-type {\n",
       "        vertical-align: middle;\n",
       "    }\n",
       "\n",
       "    .dataframe tbody tr th {\n",
       "        vertical-align: top;\n",
       "    }\n",
       "\n",
       "    .dataframe thead th {\n",
       "        text-align: right;\n",
       "    }\n",
       "</style>\n",
       "<table border=\"1\" class=\"dataframe\">\n",
       "  <thead>\n",
       "    <tr style=\"text-align: right;\">\n",
       "      <th></th>\n",
       "      <th>artist</th>\n",
       "      <th>auth</th>\n",
       "      <th>firstName</th>\n",
       "      <th>gender</th>\n",
       "      <th>itemInSession</th>\n",
       "      <th>lastName</th>\n",
       "      <th>length</th>\n",
       "      <th>level</th>\n",
       "      <th>location</th>\n",
       "      <th>method</th>\n",
       "      <th>page</th>\n",
       "      <th>registration</th>\n",
       "      <th>sessionId</th>\n",
       "      <th>song</th>\n",
       "      <th>status</th>\n",
       "      <th>ts</th>\n",
       "      <th>userAgent</th>\n",
       "      <th>userId</th>\n",
       "    </tr>\n",
       "  </thead>\n",
       "  <tbody>\n",
       "    <tr>\n",
       "      <td>0</td>\n",
       "      <td>None</td>\n",
       "      <td>Logged In</td>\n",
       "      <td>Theodore</td>\n",
       "      <td>M</td>\n",
       "      <td>0</td>\n",
       "      <td>Smith</td>\n",
       "      <td>NaN</td>\n",
       "      <td>free</td>\n",
       "      <td>Houston-The Woodlands-Sugar Land, TX</td>\n",
       "      <td>GET</td>\n",
       "      <td>Home</td>\n",
       "      <td>1.540306e+12</td>\n",
       "      <td>154</td>\n",
       "      <td>None</td>\n",
       "      <td>200</td>\n",
       "      <td>1541290555796</td>\n",
       "      <td>Mozilla/5.0 (Windows NT 6.1; WOW64; rv:31.0) G...</td>\n",
       "      <td>52</td>\n",
       "    </tr>\n",
       "    <tr>\n",
       "      <td>1</td>\n",
       "      <td>Professor Longhair</td>\n",
       "      <td>Logged In</td>\n",
       "      <td>Ann</td>\n",
       "      <td>F</td>\n",
       "      <td>0</td>\n",
       "      <td>Banks</td>\n",
       "      <td>214.20363</td>\n",
       "      <td>free</td>\n",
       "      <td>Salt Lake City, UT</td>\n",
       "      <td>PUT</td>\n",
       "      <td>NextSong</td>\n",
       "      <td>1.540896e+12</td>\n",
       "      <td>124</td>\n",
       "      <td>Mean Ol'World</td>\n",
       "      <td>200</td>\n",
       "      <td>1541292603796</td>\n",
       "      <td>Mozilla/5.0 (Macintosh; Intel Mac OS X 10.9; r...</td>\n",
       "      <td>99</td>\n",
       "    </tr>\n",
       "    <tr>\n",
       "      <td>2</td>\n",
       "      <td>None</td>\n",
       "      <td>Logged In</td>\n",
       "      <td>Jahiem</td>\n",
       "      <td>M</td>\n",
       "      <td>0</td>\n",
       "      <td>Miles</td>\n",
       "      <td>NaN</td>\n",
       "      <td>free</td>\n",
       "      <td>San Antonio-New Braunfels, TX</td>\n",
       "      <td>GET</td>\n",
       "      <td>Home</td>\n",
       "      <td>1.540817e+12</td>\n",
       "      <td>42</td>\n",
       "      <td>None</td>\n",
       "      <td>200</td>\n",
       "      <td>1541299033796</td>\n",
       "      <td>\"Mozilla/5.0 (Windows NT 5.1) AppleWebKit/537....</td>\n",
       "      <td>43</td>\n",
       "    </tr>\n",
       "    <tr>\n",
       "      <td>3</td>\n",
       "      <td>Gary Hobbs</td>\n",
       "      <td>Logged In</td>\n",
       "      <td>Jahiem</td>\n",
       "      <td>M</td>\n",
       "      <td>1</td>\n",
       "      <td>Miles</td>\n",
       "      <td>245.52444</td>\n",
       "      <td>free</td>\n",
       "      <td>San Antonio-New Braunfels, TX</td>\n",
       "      <td>PUT</td>\n",
       "      <td>NextSong</td>\n",
       "      <td>1.540817e+12</td>\n",
       "      <td>42</td>\n",
       "      <td>En Mi Mundo</td>\n",
       "      <td>200</td>\n",
       "      <td>1541300092796</td>\n",
       "      <td>\"Mozilla/5.0 (Windows NT 5.1) AppleWebKit/537....</td>\n",
       "      <td>43</td>\n",
       "    </tr>\n",
       "    <tr>\n",
       "      <td>4</td>\n",
       "      <td>Lifehouse</td>\n",
       "      <td>Logged In</td>\n",
       "      <td>Jahiem</td>\n",
       "      <td>M</td>\n",
       "      <td>2</td>\n",
       "      <td>Miles</td>\n",
       "      <td>203.59791</td>\n",
       "      <td>free</td>\n",
       "      <td>San Antonio-New Braunfels, TX</td>\n",
       "      <td>PUT</td>\n",
       "      <td>NextSong</td>\n",
       "      <td>1.540817e+12</td>\n",
       "      <td>42</td>\n",
       "      <td>We'll Never Know</td>\n",
       "      <td>200</td>\n",
       "      <td>1541300337796</td>\n",
       "      <td>\"Mozilla/5.0 (Windows NT 5.1) AppleWebKit/537....</td>\n",
       "      <td>43</td>\n",
       "    </tr>\n",
       "  </tbody>\n",
       "</table>\n",
       "</div>"
      ],
      "text/plain": [
       "               artist       auth firstName gender  itemInSession lastName  \\\n",
       "0                None  Logged In  Theodore      M              0    Smith   \n",
       "1  Professor Longhair  Logged In       Ann      F              0    Banks   \n",
       "2                None  Logged In    Jahiem      M              0    Miles   \n",
       "3          Gary Hobbs  Logged In    Jahiem      M              1    Miles   \n",
       "4           Lifehouse  Logged In    Jahiem      M              2    Miles   \n",
       "\n",
       "      length level                              location method      page  \\\n",
       "0        NaN  free  Houston-The Woodlands-Sugar Land, TX    GET      Home   \n",
       "1  214.20363  free                    Salt Lake City, UT    PUT  NextSong   \n",
       "2        NaN  free         San Antonio-New Braunfels, TX    GET      Home   \n",
       "3  245.52444  free         San Antonio-New Braunfels, TX    PUT  NextSong   \n",
       "4  203.59791  free         San Antonio-New Braunfels, TX    PUT  NextSong   \n",
       "\n",
       "   registration  sessionId              song  status             ts  \\\n",
       "0  1.540306e+12        154              None     200  1541290555796   \n",
       "1  1.540896e+12        124     Mean Ol'World     200  1541292603796   \n",
       "2  1.540817e+12         42              None     200  1541299033796   \n",
       "3  1.540817e+12         42       En Mi Mundo     200  1541300092796   \n",
       "4  1.540817e+12         42  We'll Never Know     200  1541300337796   \n",
       "\n",
       "                                           userAgent userId  \n",
       "0  Mozilla/5.0 (Windows NT 6.1; WOW64; rv:31.0) G...     52  \n",
       "1  Mozilla/5.0 (Macintosh; Intel Mac OS X 10.9; r...     99  \n",
       "2  \"Mozilla/5.0 (Windows NT 5.1) AppleWebKit/537....     43  \n",
       "3  \"Mozilla/5.0 (Windows NT 5.1) AppleWebKit/537....     43  \n",
       "4  \"Mozilla/5.0 (Windows NT 5.1) AppleWebKit/537....     43  "
      ]
     },
     "execution_count": 13,
     "metadata": {},
     "output_type": "execute_result"
    }
   ],
   "source": [
    "df = pd.read_json(filepath, lines=True)\n",
    "df.head()"
   ]
  },
  {
   "cell_type": "markdown",
   "metadata": {},
   "source": [
    "## #3: `time` Table\n",
    "#### Extract Data for Time Table\n",
    "- Filter records by `NextSong` action\n",
    "- Convert the `ts` timestamp column to datetime\n",
    "  - Hint: the current timestamp is in milliseconds\n",
    "- Extract the timestamp, hour, day, week of year, month, year, and weekday from the `ts` column and set `time_data` to a list containing these values in order\n",
    "  - Hint: use pandas' [`dt` attribute](https://pandas.pydata.org/pandas-docs/stable/reference/api/pandas.Series.dt.html) to access easily datetimelike properties.\n",
    "- Specify labels for these columns and set to `column_labels`\n",
    "- Create a dataframe, `time_df,` containing the time data for this file by combining `column_labels` and `time_data` into a dictionary and converting this into a dataframe"
   ]
  },
  {
   "cell_type": "code",
   "execution_count": 14,
   "metadata": {},
   "outputs": [
    {
     "data": {
      "text/html": [
       "<div>\n",
       "<style scoped>\n",
       "    .dataframe tbody tr th:only-of-type {\n",
       "        vertical-align: middle;\n",
       "    }\n",
       "\n",
       "    .dataframe tbody tr th {\n",
       "        vertical-align: top;\n",
       "    }\n",
       "\n",
       "    .dataframe thead th {\n",
       "        text-align: right;\n",
       "    }\n",
       "</style>\n",
       "<table border=\"1\" class=\"dataframe\">\n",
       "  <thead>\n",
       "    <tr style=\"text-align: right;\">\n",
       "      <th></th>\n",
       "      <th>artist</th>\n",
       "      <th>auth</th>\n",
       "      <th>firstName</th>\n",
       "      <th>gender</th>\n",
       "      <th>itemInSession</th>\n",
       "      <th>lastName</th>\n",
       "      <th>length</th>\n",
       "      <th>level</th>\n",
       "      <th>location</th>\n",
       "      <th>method</th>\n",
       "      <th>page</th>\n",
       "      <th>registration</th>\n",
       "      <th>sessionId</th>\n",
       "      <th>song</th>\n",
       "      <th>status</th>\n",
       "      <th>ts</th>\n",
       "      <th>userAgent</th>\n",
       "      <th>userId</th>\n",
       "    </tr>\n",
       "  </thead>\n",
       "  <tbody>\n",
       "    <tr>\n",
       "      <td>1</td>\n",
       "      <td>Professor Longhair</td>\n",
       "      <td>Logged In</td>\n",
       "      <td>Ann</td>\n",
       "      <td>F</td>\n",
       "      <td>0</td>\n",
       "      <td>Banks</td>\n",
       "      <td>214.20363</td>\n",
       "      <td>free</td>\n",
       "      <td>Salt Lake City, UT</td>\n",
       "      <td>PUT</td>\n",
       "      <td>NextSong</td>\n",
       "      <td>1.540896e+12</td>\n",
       "      <td>124</td>\n",
       "      <td>Mean Ol'World</td>\n",
       "      <td>200</td>\n",
       "      <td>1541292603796</td>\n",
       "      <td>Mozilla/5.0 (Macintosh; Intel Mac OS X 10.9; r...</td>\n",
       "      <td>99</td>\n",
       "    </tr>\n",
       "    <tr>\n",
       "      <td>3</td>\n",
       "      <td>Gary Hobbs</td>\n",
       "      <td>Logged In</td>\n",
       "      <td>Jahiem</td>\n",
       "      <td>M</td>\n",
       "      <td>1</td>\n",
       "      <td>Miles</td>\n",
       "      <td>245.52444</td>\n",
       "      <td>free</td>\n",
       "      <td>San Antonio-New Braunfels, TX</td>\n",
       "      <td>PUT</td>\n",
       "      <td>NextSong</td>\n",
       "      <td>1.540817e+12</td>\n",
       "      <td>42</td>\n",
       "      <td>En Mi Mundo</td>\n",
       "      <td>200</td>\n",
       "      <td>1541300092796</td>\n",
       "      <td>\"Mozilla/5.0 (Windows NT 5.1) AppleWebKit/537....</td>\n",
       "      <td>43</td>\n",
       "    </tr>\n",
       "    <tr>\n",
       "      <td>4</td>\n",
       "      <td>Lifehouse</td>\n",
       "      <td>Logged In</td>\n",
       "      <td>Jahiem</td>\n",
       "      <td>M</td>\n",
       "      <td>2</td>\n",
       "      <td>Miles</td>\n",
       "      <td>203.59791</td>\n",
       "      <td>free</td>\n",
       "      <td>San Antonio-New Braunfels, TX</td>\n",
       "      <td>PUT</td>\n",
       "      <td>NextSong</td>\n",
       "      <td>1.540817e+12</td>\n",
       "      <td>42</td>\n",
       "      <td>We'll Never Know</td>\n",
       "      <td>200</td>\n",
       "      <td>1541300337796</td>\n",
       "      <td>\"Mozilla/5.0 (Windows NT 5.1) AppleWebKit/537....</td>\n",
       "      <td>43</td>\n",
       "    </tr>\n",
       "    <tr>\n",
       "      <td>5</td>\n",
       "      <td>Olivia Ruiz</td>\n",
       "      <td>Logged In</td>\n",
       "      <td>Jahiem</td>\n",
       "      <td>M</td>\n",
       "      <td>3</td>\n",
       "      <td>Miles</td>\n",
       "      <td>254.74567</td>\n",
       "      <td>free</td>\n",
       "      <td>San Antonio-New Braunfels, TX</td>\n",
       "      <td>PUT</td>\n",
       "      <td>NextSong</td>\n",
       "      <td>1.540817e+12</td>\n",
       "      <td>42</td>\n",
       "      <td>Cabaret Blanco</td>\n",
       "      <td>200</td>\n",
       "      <td>1541300540796</td>\n",
       "      <td>\"Mozilla/5.0 (Windows NT 5.1) AppleWebKit/537....</td>\n",
       "      <td>43</td>\n",
       "    </tr>\n",
       "    <tr>\n",
       "      <td>7</td>\n",
       "      <td>Jordan Rudess</td>\n",
       "      <td>Logged In</td>\n",
       "      <td>Cecilia</td>\n",
       "      <td>F</td>\n",
       "      <td>1</td>\n",
       "      <td>Owens</td>\n",
       "      <td>1367.84934</td>\n",
       "      <td>free</td>\n",
       "      <td>Atlanta-Sandy Springs-Roswell, GA</td>\n",
       "      <td>PUT</td>\n",
       "      <td>NextSong</td>\n",
       "      <td>1.541032e+12</td>\n",
       "      <td>225</td>\n",
       "      <td>Tarkus</td>\n",
       "      <td>200</td>\n",
       "      <td>1541306152796</td>\n",
       "      <td>Mozilla/5.0 (Windows NT 6.1; WOW64; rv:32.0) G...</td>\n",
       "      <td>6</td>\n",
       "    </tr>\n",
       "  </tbody>\n",
       "</table>\n",
       "</div>"
      ],
      "text/plain": [
       "               artist       auth firstName gender  itemInSession lastName  \\\n",
       "1  Professor Longhair  Logged In       Ann      F              0    Banks   \n",
       "3          Gary Hobbs  Logged In    Jahiem      M              1    Miles   \n",
       "4           Lifehouse  Logged In    Jahiem      M              2    Miles   \n",
       "5         Olivia Ruiz  Logged In    Jahiem      M              3    Miles   \n",
       "7       Jordan Rudess  Logged In   Cecilia      F              1    Owens   \n",
       "\n",
       "       length level                           location method      page  \\\n",
       "1   214.20363  free                 Salt Lake City, UT    PUT  NextSong   \n",
       "3   245.52444  free      San Antonio-New Braunfels, TX    PUT  NextSong   \n",
       "4   203.59791  free      San Antonio-New Braunfels, TX    PUT  NextSong   \n",
       "5   254.74567  free      San Antonio-New Braunfels, TX    PUT  NextSong   \n",
       "7  1367.84934  free  Atlanta-Sandy Springs-Roswell, GA    PUT  NextSong   \n",
       "\n",
       "   registration  sessionId              song  status             ts  \\\n",
       "1  1.540896e+12        124     Mean Ol'World     200  1541292603796   \n",
       "3  1.540817e+12         42       En Mi Mundo     200  1541300092796   \n",
       "4  1.540817e+12         42  We'll Never Know     200  1541300337796   \n",
       "5  1.540817e+12         42    Cabaret Blanco     200  1541300540796   \n",
       "7  1.541032e+12        225            Tarkus     200  1541306152796   \n",
       "\n",
       "                                           userAgent userId  \n",
       "1  Mozilla/5.0 (Macintosh; Intel Mac OS X 10.9; r...     99  \n",
       "3  \"Mozilla/5.0 (Windows NT 5.1) AppleWebKit/537....     43  \n",
       "4  \"Mozilla/5.0 (Windows NT 5.1) AppleWebKit/537....     43  \n",
       "5  \"Mozilla/5.0 (Windows NT 5.1) AppleWebKit/537....     43  \n",
       "7  Mozilla/5.0 (Windows NT 6.1; WOW64; rv:32.0) G...      6  "
      ]
     },
     "execution_count": 14,
     "metadata": {},
     "output_type": "execute_result"
    }
   ],
   "source": [
    "df = df.loc[df['page'] == 'NextSong'].copy()\n",
    "df.head()"
   ]
  },
  {
   "cell_type": "code",
   "execution_count": 15,
   "metadata": {},
   "outputs": [
    {
     "data": {
      "text/plain": [
       "1   2018-11-04 00:50:03.796\n",
       "3   2018-11-04 02:54:52.796\n",
       "4   2018-11-04 02:58:57.796\n",
       "5   2018-11-04 03:02:20.796\n",
       "7   2018-11-04 04:35:52.796\n",
       "Name: ts, dtype: datetime64[ns]"
      ]
     },
     "execution_count": 15,
     "metadata": {},
     "output_type": "execute_result"
    }
   ],
   "source": [
    "t = pd.to_datetime(df['ts'], unit='ms')\n",
    "t.head()"
   ]
  },
  {
   "cell_type": "code",
   "execution_count": 16,
   "metadata": {},
   "outputs": [],
   "source": [
    "time_data = ([t, t.dt.hour, t.dt.day, t.dt.week, t.dt.month, t.dt.year, t.dt.weekday])\n",
    "column_labels = (['time', 'hour', 'day', 'week', 'month', 'year', 'weekday'])"
   ]
  },
  {
   "cell_type": "code",
   "execution_count": 17,
   "metadata": {},
   "outputs": [
    {
     "data": {
      "text/plain": [
       "pandas.core.series.Series"
      ]
     },
     "execution_count": 17,
     "metadata": {},
     "output_type": "execute_result"
    }
   ],
   "source": [
    "type(time_data[0])"
   ]
  },
  {
   "cell_type": "code",
   "execution_count": 18,
   "metadata": {},
   "outputs": [
    {
     "data": {
      "text/html": [
       "<div>\n",
       "<style scoped>\n",
       "    .dataframe tbody tr th:only-of-type {\n",
       "        vertical-align: middle;\n",
       "    }\n",
       "\n",
       "    .dataframe tbody tr th {\n",
       "        vertical-align: top;\n",
       "    }\n",
       "\n",
       "    .dataframe thead th {\n",
       "        text-align: right;\n",
       "    }\n",
       "</style>\n",
       "<table border=\"1\" class=\"dataframe\">\n",
       "  <thead>\n",
       "    <tr style=\"text-align: right;\">\n",
       "      <th></th>\n",
       "      <th>time</th>\n",
       "      <th>hour</th>\n",
       "      <th>day</th>\n",
       "      <th>week</th>\n",
       "      <th>month</th>\n",
       "      <th>year</th>\n",
       "      <th>weekday</th>\n",
       "    </tr>\n",
       "  </thead>\n",
       "  <tbody>\n",
       "    <tr>\n",
       "      <td>1</td>\n",
       "      <td>2018-11-04 00:50:03.796</td>\n",
       "      <td>0</td>\n",
       "      <td>4</td>\n",
       "      <td>44</td>\n",
       "      <td>11</td>\n",
       "      <td>2018</td>\n",
       "      <td>6</td>\n",
       "    </tr>\n",
       "    <tr>\n",
       "      <td>3</td>\n",
       "      <td>2018-11-04 02:54:52.796</td>\n",
       "      <td>2</td>\n",
       "      <td>4</td>\n",
       "      <td>44</td>\n",
       "      <td>11</td>\n",
       "      <td>2018</td>\n",
       "      <td>6</td>\n",
       "    </tr>\n",
       "    <tr>\n",
       "      <td>4</td>\n",
       "      <td>2018-11-04 02:58:57.796</td>\n",
       "      <td>2</td>\n",
       "      <td>4</td>\n",
       "      <td>44</td>\n",
       "      <td>11</td>\n",
       "      <td>2018</td>\n",
       "      <td>6</td>\n",
       "    </tr>\n",
       "    <tr>\n",
       "      <td>5</td>\n",
       "      <td>2018-11-04 03:02:20.796</td>\n",
       "      <td>3</td>\n",
       "      <td>4</td>\n",
       "      <td>44</td>\n",
       "      <td>11</td>\n",
       "      <td>2018</td>\n",
       "      <td>6</td>\n",
       "    </tr>\n",
       "    <tr>\n",
       "      <td>7</td>\n",
       "      <td>2018-11-04 04:35:52.796</td>\n",
       "      <td>4</td>\n",
       "      <td>4</td>\n",
       "      <td>44</td>\n",
       "      <td>11</td>\n",
       "      <td>2018</td>\n",
       "      <td>6</td>\n",
       "    </tr>\n",
       "    <tr>\n",
       "      <td>...</td>\n",
       "      <td>...</td>\n",
       "      <td>...</td>\n",
       "      <td>...</td>\n",
       "      <td>...</td>\n",
       "      <td>...</td>\n",
       "      <td>...</td>\n",
       "      <td>...</td>\n",
       "    </tr>\n",
       "    <tr>\n",
       "      <td>180</td>\n",
       "      <td>2018-11-04 21:01:44.796</td>\n",
       "      <td>21</td>\n",
       "      <td>4</td>\n",
       "      <td>44</td>\n",
       "      <td>11</td>\n",
       "      <td>2018</td>\n",
       "      <td>6</td>\n",
       "    </tr>\n",
       "    <tr>\n",
       "      <td>181</td>\n",
       "      <td>2018-11-04 22:56:24.796</td>\n",
       "      <td>22</td>\n",
       "      <td>4</td>\n",
       "      <td>44</td>\n",
       "      <td>11</td>\n",
       "      <td>2018</td>\n",
       "      <td>6</td>\n",
       "    </tr>\n",
       "    <tr>\n",
       "      <td>182</td>\n",
       "      <td>2018-11-04 22:58:36.796</td>\n",
       "      <td>22</td>\n",
       "      <td>4</td>\n",
       "      <td>44</td>\n",
       "      <td>11</td>\n",
       "      <td>2018</td>\n",
       "      <td>6</td>\n",
       "    </tr>\n",
       "    <tr>\n",
       "      <td>183</td>\n",
       "      <td>2018-11-04 23:02:14.796</td>\n",
       "      <td>23</td>\n",
       "      <td>4</td>\n",
       "      <td>44</td>\n",
       "      <td>11</td>\n",
       "      <td>2018</td>\n",
       "      <td>6</td>\n",
       "    </tr>\n",
       "    <tr>\n",
       "      <td>188</td>\n",
       "      <td>2018-11-04 23:45:13.796</td>\n",
       "      <td>23</td>\n",
       "      <td>4</td>\n",
       "      <td>44</td>\n",
       "      <td>11</td>\n",
       "      <td>2018</td>\n",
       "      <td>6</td>\n",
       "    </tr>\n",
       "  </tbody>\n",
       "</table>\n",
       "<p>144 rows × 7 columns</p>\n",
       "</div>"
      ],
      "text/plain": [
       "                       time  hour  day  week  month  year  weekday\n",
       "1   2018-11-04 00:50:03.796     0    4    44     11  2018        6\n",
       "3   2018-11-04 02:54:52.796     2    4    44     11  2018        6\n",
       "4   2018-11-04 02:58:57.796     2    4    44     11  2018        6\n",
       "5   2018-11-04 03:02:20.796     3    4    44     11  2018        6\n",
       "7   2018-11-04 04:35:52.796     4    4    44     11  2018        6\n",
       "..                      ...   ...  ...   ...    ...   ...      ...\n",
       "180 2018-11-04 21:01:44.796    21    4    44     11  2018        6\n",
       "181 2018-11-04 22:56:24.796    22    4    44     11  2018        6\n",
       "182 2018-11-04 22:58:36.796    22    4    44     11  2018        6\n",
       "183 2018-11-04 23:02:14.796    23    4    44     11  2018        6\n",
       "188 2018-11-04 23:45:13.796    23    4    44     11  2018        6\n",
       "\n",
       "[144 rows x 7 columns]"
      ]
     },
     "execution_count": 18,
     "metadata": {},
     "output_type": "execute_result"
    }
   ],
   "source": [
    "time_df = pd.DataFrame.from_dict(dict(zip(column_labels, time_data)))\n",
    "time_df"
   ]
  },
  {
   "cell_type": "markdown",
   "metadata": {},
   "source": [
    "#### Insert Records into Time Table\n",
    "Implement the `time_table_insert` query in `sql_queries.py` and run the cell below to insert records for the timestamps in this log file into the `time` table. Remember to run `create_tables.py` before running the cell below to ensure you've created/resetted the `time` table in the sparkify database."
   ]
  },
  {
   "cell_type": "code",
   "execution_count": 19,
   "metadata": {},
   "outputs": [],
   "source": [
    "for i, row in time_df.iterrows():\n",
    "    cur.execute(time_table_insert, list(row))\n",
    "    conn.commit()"
   ]
  },
  {
   "cell_type": "markdown",
   "metadata": {},
   "source": [
    "Run `test.ipynb` to see if you've successfully added records to this table."
   ]
  },
  {
   "cell_type": "markdown",
   "metadata": {},
   "source": [
    "## #4: `users` Table\n",
    "#### Extract Data for Users Table\n",
    "- Select columns for user ID, first name, last name, gender and level and set to `user_df`"
   ]
  },
  {
   "cell_type": "code",
   "execution_count": 20,
   "metadata": {},
   "outputs": [
    {
     "data": {
      "text/html": [
       "<div>\n",
       "<style scoped>\n",
       "    .dataframe tbody tr th:only-of-type {\n",
       "        vertical-align: middle;\n",
       "    }\n",
       "\n",
       "    .dataframe tbody tr th {\n",
       "        vertical-align: top;\n",
       "    }\n",
       "\n",
       "    .dataframe thead th {\n",
       "        text-align: right;\n",
       "    }\n",
       "</style>\n",
       "<table border=\"1\" class=\"dataframe\">\n",
       "  <thead>\n",
       "    <tr style=\"text-align: right;\">\n",
       "      <th></th>\n",
       "      <th>userId</th>\n",
       "      <th>firstName</th>\n",
       "      <th>lastName</th>\n",
       "      <th>gender</th>\n",
       "      <th>level</th>\n",
       "    </tr>\n",
       "  </thead>\n",
       "  <tbody>\n",
       "    <tr>\n",
       "      <td>1</td>\n",
       "      <td>99</td>\n",
       "      <td>Ann</td>\n",
       "      <td>Banks</td>\n",
       "      <td>F</td>\n",
       "      <td>free</td>\n",
       "    </tr>\n",
       "    <tr>\n",
       "      <td>3</td>\n",
       "      <td>43</td>\n",
       "      <td>Jahiem</td>\n",
       "      <td>Miles</td>\n",
       "      <td>M</td>\n",
       "      <td>free</td>\n",
       "    </tr>\n",
       "    <tr>\n",
       "      <td>7</td>\n",
       "      <td>6</td>\n",
       "      <td>Cecilia</td>\n",
       "      <td>Owens</td>\n",
       "      <td>F</td>\n",
       "      <td>free</td>\n",
       "    </tr>\n",
       "    <tr>\n",
       "      <td>8</td>\n",
       "      <td>25</td>\n",
       "      <td>Jayden</td>\n",
       "      <td>Graves</td>\n",
       "      <td>M</td>\n",
       "      <td>paid</td>\n",
       "    </tr>\n",
       "    <tr>\n",
       "      <td>27</td>\n",
       "      <td>51</td>\n",
       "      <td>Maia</td>\n",
       "      <td>Burke</td>\n",
       "      <td>F</td>\n",
       "      <td>free</td>\n",
       "    </tr>\n",
       "    <tr>\n",
       "      <td>52</td>\n",
       "      <td>44</td>\n",
       "      <td>Aleena</td>\n",
       "      <td>Kirby</td>\n",
       "      <td>F</td>\n",
       "      <td>paid</td>\n",
       "    </tr>\n",
       "    <tr>\n",
       "      <td>64</td>\n",
       "      <td>16</td>\n",
       "      <td>Rylan</td>\n",
       "      <td>George</td>\n",
       "      <td>M</td>\n",
       "      <td>free</td>\n",
       "    </tr>\n",
       "    <tr>\n",
       "      <td>113</td>\n",
       "      <td>32</td>\n",
       "      <td>Lily</td>\n",
       "      <td>Burns</td>\n",
       "      <td>F</td>\n",
       "      <td>free</td>\n",
       "    </tr>\n",
       "    <tr>\n",
       "      <td>114</td>\n",
       "      <td>10</td>\n",
       "      <td>Sylvie</td>\n",
       "      <td>Cruz</td>\n",
       "      <td>F</td>\n",
       "      <td>free</td>\n",
       "    </tr>\n",
       "    <tr>\n",
       "      <td>115</td>\n",
       "      <td>37</td>\n",
       "      <td>Jordan</td>\n",
       "      <td>Hicks</td>\n",
       "      <td>F</td>\n",
       "      <td>free</td>\n",
       "    </tr>\n",
       "    <tr>\n",
       "      <td>117</td>\n",
       "      <td>28</td>\n",
       "      <td>Brantley</td>\n",
       "      <td>West</td>\n",
       "      <td>M</td>\n",
       "      <td>free</td>\n",
       "    </tr>\n",
       "    <tr>\n",
       "      <td>126</td>\n",
       "      <td>77</td>\n",
       "      <td>Magdalene</td>\n",
       "      <td>Herman</td>\n",
       "      <td>F</td>\n",
       "      <td>free</td>\n",
       "    </tr>\n",
       "    <tr>\n",
       "      <td>128</td>\n",
       "      <td>78</td>\n",
       "      <td>Chloe</td>\n",
       "      <td>Roth</td>\n",
       "      <td>F</td>\n",
       "      <td>free</td>\n",
       "    </tr>\n",
       "    <tr>\n",
       "      <td>133</td>\n",
       "      <td>74</td>\n",
       "      <td>Braden</td>\n",
       "      <td>Parker</td>\n",
       "      <td>M</td>\n",
       "      <td>free</td>\n",
       "    </tr>\n",
       "    <tr>\n",
       "      <td>137</td>\n",
       "      <td>100</td>\n",
       "      <td>Adler</td>\n",
       "      <td>Barrera</td>\n",
       "      <td>M</td>\n",
       "      <td>free</td>\n",
       "    </tr>\n",
       "    <tr>\n",
       "      <td>139</td>\n",
       "      <td>69</td>\n",
       "      <td>Anabelle</td>\n",
       "      <td>Simpson</td>\n",
       "      <td>F</td>\n",
       "      <td>free</td>\n",
       "    </tr>\n",
       "    <tr>\n",
       "      <td>143</td>\n",
       "      <td>33</td>\n",
       "      <td>Bronson</td>\n",
       "      <td>Harris</td>\n",
       "      <td>M</td>\n",
       "      <td>free</td>\n",
       "    </tr>\n",
       "    <tr>\n",
       "      <td>148</td>\n",
       "      <td>80</td>\n",
       "      <td>Tegan</td>\n",
       "      <td>Levine</td>\n",
       "      <td>F</td>\n",
       "      <td>free</td>\n",
       "    </tr>\n",
       "    <tr>\n",
       "      <td>153</td>\n",
       "      <td>73</td>\n",
       "      <td>Jacob</td>\n",
       "      <td>Klein</td>\n",
       "      <td>M</td>\n",
       "      <td>paid</td>\n",
       "    </tr>\n",
       "    <tr>\n",
       "      <td>188</td>\n",
       "      <td>83</td>\n",
       "      <td>Stefany</td>\n",
       "      <td>White</td>\n",
       "      <td>F</td>\n",
       "      <td>free</td>\n",
       "    </tr>\n",
       "  </tbody>\n",
       "</table>\n",
       "</div>"
      ],
      "text/plain": [
       "    userId  firstName lastName gender level\n",
       "1       99        Ann    Banks      F  free\n",
       "3       43     Jahiem    Miles      M  free\n",
       "7        6    Cecilia    Owens      F  free\n",
       "8       25     Jayden   Graves      M  paid\n",
       "27      51       Maia    Burke      F  free\n",
       "52      44     Aleena    Kirby      F  paid\n",
       "64      16      Rylan   George      M  free\n",
       "113     32       Lily    Burns      F  free\n",
       "114     10     Sylvie     Cruz      F  free\n",
       "115     37     Jordan    Hicks      F  free\n",
       "117     28   Brantley     West      M  free\n",
       "126     77  Magdalene   Herman      F  free\n",
       "128     78      Chloe     Roth      F  free\n",
       "133     74     Braden   Parker      M  free\n",
       "137    100      Adler  Barrera      M  free\n",
       "139     69   Anabelle  Simpson      F  free\n",
       "143     33    Bronson   Harris      M  free\n",
       "148     80      Tegan   Levine      F  free\n",
       "153     73      Jacob    Klein      M  paid\n",
       "188     83    Stefany    White      F  free"
      ]
     },
     "execution_count": 20,
     "metadata": {},
     "output_type": "execute_result"
    }
   ],
   "source": [
    "user_df = df[['userId', 'firstName', 'lastName', 'gender', 'level']].drop_duplicates()\n",
    "user_df"
   ]
  },
  {
   "cell_type": "markdown",
   "metadata": {},
   "source": [
    "#### Insert Records into Users Table\n",
    "Implement the `user_table_insert` query in `sql_queries.py` and run the cell below to insert records for the users in this log file into the `users` table. Remember to run `create_tables.py` before running the cell below to ensure you've created/resetted the `users` table in the sparkify database."
   ]
  },
  {
   "cell_type": "code",
   "execution_count": 21,
   "metadata": {},
   "outputs": [],
   "source": [
    "for i, row in user_df.iterrows():\n",
    "    cur.execute(user_table_insert, row)\n",
    "    conn.commit()"
   ]
  },
  {
   "cell_type": "markdown",
   "metadata": {},
   "source": [
    "Run `test.ipynb` to see if you've successfully added records to this table."
   ]
  },
  {
   "cell_type": "markdown",
   "metadata": {},
   "source": [
    "## #5: `songplays` Table\n",
    "#### Extract Data and Songplays Table\n",
    "This one is a little more complicated since information from the songs table, artists table, and original log file are all needed for the `songplays` table. Since the log file does not specify an ID for either the song or the artist, you'll need to get the song ID and artist ID by querying the songs and artists tables to find matches based on song title, artist name, and song duration time.\n",
    "- Implement the `song_select` query in `sql_queries.py` to find the song ID and artist ID based on the title, artist name, and duration of a song.\n",
    "- Select the timestamp, user ID, level, song ID, artist ID, session ID, location, and user agent and set to `songplay_data`\n",
    "\n",
    "#### Insert Records into Songplays Table\n",
    "- Implement the `songplay_table_insert` query and run the cell below to insert records for the songplay actions in this log file into the `songplays` table. Remember to run `create_tables.py` before running the cell below to ensure you've created/resetted the `songplays` table in the sparkify database."
   ]
  },
  {
   "cell_type": "code",
   "execution_count": 22,
   "metadata": {},
   "outputs": [],
   "source": [
    "for index, row in df.iterrows():\n",
    "\n",
    "#     # get songid and artistid from song and artist tables\n",
    "#     results = cur.execute(song_select, (row.song, row.artist, row.length))\n",
    "#     songid, artistid = results if results else None, None\n",
    "\n",
    "#     # insert songplay record\n",
    "#     songplay_data = ([pd.to_datetime(row.ts), row.userId, row.level, songid, artistid, row.sessionId, row.location, row.userAgent])\n",
    "#     cur.execute(songplay_table_insert, songplay_data)\n",
    "#     conn.commit()\n",
    "    \n",
    "     # get songid and artistid from song and artist tables\n",
    "    cur.execute(song_select, (row.song, row.artist, row.length))\n",
    "    results = cur.fetchone()\n",
    "    if results:\n",
    "        songid, artistid = results\n",
    "    else:\n",
    "        songid, artistid = None, None\n",
    "    # insert songplay record\n",
    "    songplay_data = ([pd.to_datetime(row.ts), row.userId, row.level, songid, artistid, row.sessionId, row.location, row.userAgent])\n",
    "    cur.execute(songplay_table_insert, songplay_data)\n",
    "    conn.commit()\n"
   ]
  },
  {
   "cell_type": "markdown",
   "metadata": {},
   "source": [
    "Run `test.ipynb` to see if you've successfully added records to this table."
   ]
  },
  {
   "cell_type": "markdown",
   "metadata": {},
   "source": [
    "# Close Connection to Sparkify Database"
   ]
  },
  {
   "cell_type": "code",
   "execution_count": 23,
   "metadata": {},
   "outputs": [],
   "source": [
    "conn.close()"
   ]
  },
  {
   "cell_type": "markdown",
   "metadata": {},
   "source": [
    "# Implement `etl.py`\n",
    "Use what you've completed in this notebook to implement `etl.py`."
   ]
  },
  {
   "cell_type": "code",
   "execution_count": null,
   "metadata": {},
   "outputs": [],
   "source": []
  },
  {
   "cell_type": "code",
   "execution_count": null,
   "metadata": {},
   "outputs": [],
   "source": []
  }
 ],
 "metadata": {
  "kernelspec": {
   "display_name": "Python 3",
   "language": "python",
   "name": "python3"
  },
  "language_info": {
   "codemirror_mode": {
    "name": "ipython",
    "version": 3
   },
   "file_extension": ".py",
   "mimetype": "text/x-python",
   "name": "python",
   "nbconvert_exporter": "python",
   "pygments_lexer": "ipython3",
   "version": "3.7.4"
  }
 },
 "nbformat": 4,
 "nbformat_minor": 2
}
